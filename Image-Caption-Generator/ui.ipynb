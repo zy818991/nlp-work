{
 "cells": [
  {
   "cell_type": "code",
   "execution_count": null,
   "id": "2c19810e",
   "metadata": {},
   "outputs": [],
   "source": [
    "from tkinter import *\n",
    "from PIL import ImageTk,Image\n",
    "from tkinter import filedialog\n",
    "import os\n",
    "import generate"
   ]
  },
  {
   "cell_type": "code",
   "execution_count": null,
   "id": "8cae748a",
   "metadata": {},
   "outputs": [],
   "source": [
    "def choose_file():\n",
    "    filename = filedialog.askopenfilename(initialdir=os.getcwd(), title=\"Select image file\", filetypes=((\"JPG File\", \"*.jpg\"), (\"PNG file\", \"*.png\"), (\"All files\", \"*.\")))\n",
    "    entry1.delete(0, 'end')\n",
    "    entry1.insert(0,str(filename))\n",
    "    img = Image.open(filename)\n",
    "    img.thumbnail((550,500))\n",
    "    img = ImageTk.PhotoImage(img)\n",
    "    lbl.configure(image=img)\n",
    "    lbl.image = img\n",
    "    \n",
    "\n",
    "root = Tk()\n",
    "root.title(\"Image Caption Generator Using Deep Learning\")\n",
    "root.geometry(\"650x650\")\n",
    "\n",
    "mylabel = Label(root, text = \" \", font=\"24\")\n",
    "\n",
    "def generateCaption(mylabel):\n",
    "    #filePath = entry1.get()\n",
    "    #fileNameArr = filePath.split(\"/\")\n",
    "    #file_name = fileNameArr[len(fileNameArr)-1]\n",
    "    file_name = entry1.get()\n",
    "    print(file_name)\n",
    "    caption = generate.runModel(file_name)\n",
    "\n",
    "    mylabel = mylabel.config(text=caption)\n",
    "    #mylabel.update()\n",
    "    \n",
    "\n",
    "frm = Frame(root)\n",
    "frm.pack(side=BOTTOM, padx=10, pady=10)\n",
    "\n",
    "\n",
    "lbl = Label(root)\n",
    "lbl.pack()\n",
    "\n",
    "entry1 = Entry(frm,width =90)\n",
    "\n",
    "button1 = Button(frm, text = \"Select Image\",command = choose_file, width=20)\n",
    "\n",
    "button2 = Button(frm, text=\"Generate Caption\", command= lambda : generateCaption(mylabel), width=20)\n",
    "\n",
    "\n",
    "entry1.pack()\n",
    "mylabel.pack()\n",
    "button1.pack(pady=5)\n",
    "button2.pack(padx=10, pady=10)\n",
    "\n",
    "\n",
    "root.mainloop()\n"
   ]
  }
 ],
 "metadata": {
  "kernelspec": {
   "display_name": "Python 3",
   "language": "python",
   "name": "python3"
  },
  "language_info": {
   "codemirror_mode": {
    "name": "ipython",
    "version": 3
   },
   "file_extension": ".py",
   "mimetype": "text/x-python",
   "name": "python",
   "nbconvert_exporter": "python",
   "pygments_lexer": "ipython3",
   "version": "3.6.13"
  }
 },
 "nbformat": 4,
 "nbformat_minor": 5
}
